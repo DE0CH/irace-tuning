{
 "cells": [
  {
   "cell_type": "markdown",
   "metadata": {},
   "source": [
    "# Surrogate Illustration\n",
    "This file illustrates how to use the surrogate model to predict the performance of a set of configurations given by the configurator.\n",
    "\n",
    "## Download the Files\n",
    "Download the required model files with\n",
    "```\n",
    "curl https://www.automl.org/wp-content/uploads/2019/10/cplex_regions200.zip -O\n",
    "unzip cplex_regions200.zip\n",
    "```\n",
    "\n",
    "## Steps overview\n",
    "1. `configuration` and `instance` comes from the configurator, it is hardcoded in this illustration. \n",
    "1. Load the instances features from the json file.\n",
    "1. Load the prediction model from the binary file\n",
    "1. Convert configuration a vector with magic found in the EPM library.\n",
    "1. Append instance features to the end of the configuration vector into `x`\n",
    "1. Predict the performance of `x`.\n",
    "\n",
    "N.B. I did not use the wrapper because that appears to be a collection of hacks to workaround the extremely messy code in the EPM library. "
   ]
  },
  {
   "cell_type": "code",
   "execution_count": 1,
   "metadata": {},
   "outputs": [],
   "source": [
    "configurations = {'barrier_algorithm': '0',\n",
    " 'barrier_crossover': '0',\n",
    " 'barrier_limits_corrections': '-1',\n",
    " 'barrier_limits_growth': '1000000000000.0',\n",
    " 'barrier_ordering': '0',\n",
    " 'barrier_startalg': '1',\n",
    " 'emphasis_memory': 'no',\n",
    " 'emphasis_mip': '0',\n",
    " 'emphasis_numerical': 'no',\n",
    " 'feasopt_mode': '0',\n",
    " 'lpmethod': '0',\n",
    " 'mip_cuts_cliques': '0',\n",
    " 'mip_cuts_covers': '0',\n",
    " 'mip_cuts_disjunctive': '0',\n",
    " 'mip_cuts_flowcovers': '0',\n",
    " 'mip_cuts_gomory': '0',\n",
    " 'mip_cuts_gubcovers': '0',\n",
    " 'mip_cuts_implied': '0',\n",
    " 'mip_cuts_mcfcut': '0',\n",
    " 'mip_cuts_mircut': '0',\n",
    " 'mip_cuts_pathcut': '0',\n",
    " 'mip_cuts_zerohalfcut': '0',\n",
    " 'mip_limits_aggforcut': '3',\n",
    " 'mip_limits_cutpasses': '0',\n",
    " 'mip_limits_cutsfactor': '4.0',\n",
    " 'mip_limits_gomorycand': '200',\n",
    " 'mip_limits_gomorypass': '0',\n",
    " 'mip_limits_submipnodelim': '500',\n",
    " 'mip_ordertype': '0',\n",
    " 'mip_strategy_backtrack': '0.9999',\n",
    " 'mip_strategy_bbinterval': '7',\n",
    " 'mip_strategy_branch': '0',\n",
    " 'mip_strategy_dive': '0',\n",
    " 'mip_strategy_file': '1',\n",
    " 'mip_strategy_fpheur': '0',\n",
    " 'mip_strategy_heuristicfreq': '0',\n",
    " 'mip_strategy_lbheur': 'no',\n",
    " 'mip_strategy_nodeselect': '1',\n",
    " 'mip_strategy_presolvenode': '0',\n",
    " 'mip_strategy_probe': '0',\n",
    " 'mip_strategy_rinsheur': '0',\n",
    " 'mip_strategy_search': '0',\n",
    " 'mip_strategy_startalgorithm': '0',\n",
    " 'mip_strategy_subalgorithm': '0',\n",
    " 'mip_strategy_variableselect': '0',\n",
    " 'network_netfind': '2',\n",
    " 'network_pricing': '0',\n",
    " 'preprocessing_aggregator': '-1',\n",
    " 'preprocessing_boundstrength': '-1',\n",
    " 'preprocessing_coeffreduce': '2',\n",
    " 'preprocessing_dependency': '-1',\n",
    " 'preprocessing_dual': '0',\n",
    " 'preprocessing_fill': '10',\n",
    " 'preprocessing_linear': '1',\n",
    " 'preprocessing_numpass': '-1',\n",
    " 'preprocessing_reduce': '3',\n",
    " 'preprocessing_relax': '-1',\n",
    " 'preprocessing_repeatpresolve': '-1',\n",
    " 'preprocessing_symmetry': '-1',\n",
    " 'read_scale': '0',\n",
    " 'sifting_algorithm': '0',\n",
    " 'simplex_crash': '1',\n",
    " 'simplex_dgradient': '0',\n",
    " 'simplex_limits_perturbation': '0',\n",
    " 'simplex_limits_singularity': '10',\n",
    " 'simplex_perturbation_switch': 'no',\n",
    " 'simplex_pgradient': '0',\n",
    " 'simplex_pricing': '0',\n",
    " 'simplex_refactor': '0',\n",
    " 'simplex_tolerances_markowitz': '0.01'}"
   ]
  },
  {
   "cell_type": "code",
   "execution_count": 2,
   "metadata": {},
   "outputs": [],
   "source": [
    "instance = \"instances/mip/data/Regions200/CATS-d_regions-goods200-bids1000/CATS-d_regions-goods200-bids1000_0000.lp\""
   ]
  },
  {
   "cell_type": "code",
   "execution_count": 3,
   "metadata": {},
   "outputs": [],
   "source": [
    "# Load the list of instance features\n",
    "# \n",
    "import json\n",
    "with open('./target_algorithms/surrogate/cplex_regions200/inst_feat_dict.cplex_regions200.par10.random.json') as f:\n",
    "    instances_features = json.load(f)"
   ]
  },
  {
   "cell_type": "code",
   "execution_count": 4,
   "metadata": {},
   "outputs": [],
   "source": [
    "# Let instance_feature \n",
    "# N.B I am not sure why the arrays in the json file are in this strange ndarray serialized form instead of just an plain json array. In any case, I decide not to change the json file to maintain compatibility with aclib.\n",
    "instance_feature = instances_features[instance]['__ndarray__']"
   ]
  },
  {
   "cell_type": "code",
   "execution_count": 5,
   "metadata": {},
   "outputs": [],
   "source": [
    "# Load the random forest model\n",
    "from pyrfr import regression\n",
    "model = regression.binary_rss_forest()\n",
    "model.load_from_binary_file('./target_algorithms/surrogate/cplex_regions200/pyrfr_model.cplex_regions200.par10.random.bin')"
   ]
  },
  {
   "cell_type": "code",
   "execution_count": 6,
   "metadata": {},
   "outputs": [],
   "source": [
    "# Load the configuration space\n",
    "from ConfigSpace.read_and_write import pcs\n",
    "with open('./target_algorithms/surrogate/cplex_regions200/config_space.cplex_regions200.par10.random.pcs') as f:\n",
    "    configurationSpace = pcs.read(f)"
   ]
  },
  {
   "cell_type": "code",
   "execution_count": 7,
   "metadata": {},
   "outputs": [],
   "source": [
    "# Workaround in jupyter notebook in order to import relative python module. https://stackoverflow.com/questions/34478398/import-local-function-from-a-module-housed-in-another-directory-with-relative-im\n",
    "import os\n",
    "import sys\n",
    "module_path = os.path.abspath(os.path.join('..'))\n",
    "if module_path not in sys.path:\n",
    "    sys.path.append(module_path)\n",
    "sys.path.append('.')"
   ]
  },
  {
   "cell_type": "code",
   "execution_count": 8,
   "metadata": {},
   "outputs": [],
   "source": [
    "from surrogate import convert_params_to_vec\n",
    "encoded_configurations = convert_params_to_vec(configurations, configurationSpace)"
   ]
  },
  {
   "cell_type": "code",
   "execution_count": 9,
   "metadata": {},
   "outputs": [],
   "source": [
    "# Construct the input vector by appending features after configurations\n",
    "import numpy as np\n",
    "x = np.hstack([encoded_configurations, instance_feature])"
   ]
  },
  {
   "cell_type": "code",
   "execution_count": 10,
   "metadata": {},
   "outputs": [
    {
     "data": {
      "text/plain": [
       "1.7902174173194199"
      ]
     },
     "execution_count": 10,
     "metadata": {},
     "output_type": "execute_result"
    }
   ],
   "source": [
    "# Predict the performance\n",
    "model.predict(np.hstack([instance_feature, x]))"
   ]
  }
 ],
 "metadata": {
  "kernelspec": {
   "display_name": "Python 3.9.2 64-bit",
   "language": "python",
   "name": "python3"
  },
  "language_info": {
   "codemirror_mode": {
    "name": "ipython",
    "version": 3
   },
   "file_extension": ".py",
   "mimetype": "text/x-python",
   "name": "python",
   "nbconvert_exporter": "python",
   "pygments_lexer": "ipython3",
   "version": "3.9.2"
  },
  "orig_nbformat": 4,
  "vscode": {
   "interpreter": {
    "hash": "31f2aee4e71d21fbe5cf8b01ff0e069b9275f58929596ceb00d14d90e3e16cd6"
   }
  }
 },
 "nbformat": 4,
 "nbformat_minor": 2
}
